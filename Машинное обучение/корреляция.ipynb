{
 "cells": [
  {
   "cell_type": "code",
   "execution_count": null,
   "metadata": {
    "colab": {
     "base_uri": "https://localhost:8080/"
    },
    "id": "K-fPgFrJxrtC",
    "outputId": "502d4912-d716-45bf-b07c-bd3f941656dd"
   },
   "outputs": [
    {
     "name": "stdout",
     "output_type": "stream",
     "text": [
      "Ожидаемый результат: 0.39290265660229373\n"
     ]
    }
   ],
   "source": [
    "import numpy as np\n",
    "\n",
    "def ridge_mse(X, y, w, alpha=0.1):\n",
    "\n",
    "    X_bias = np.hstack([np.ones((X.shape[0], 1)), X])\n",
    "\n",
    "    y_pred = X_bias.dot(w)\n",
    "\n",
    "    mse = np.mean((y - y_pred)**2)\n",
    "\n",
    "    l2_penalty = alpha * np.sum(w[1:]**2)\n",
    "\n",
    "    return mse + l2_penalty\n",
    "\n",
    "X = np.array([[1],[2],[3],[4],[5]])\n",
    "y = np.array([3,5,7,9,11])\n",
    "alpha = 0.1\n",
    "\n",
    "X_bias = np.hstack([np.ones((X.shape[0], 1)), X])\n",
    "I = np.eye(X_bias.shape[1])\n",
    "I[0,0] = 0  # Не регуляризируем свободный член\n",
    "w = np.linalg.inv(X_bias.T.dot(X_bias) + alpha*I).dot(X_bias.T).dot(y)\n",
    "\n",
    "result = ridge_mse(X, y, w, alpha)\n",
    "print(\"Ожидаемый результат:\", result)\n"
   ]
  },
  {
   "cell_type": "code",
   "execution_count": null,
   "metadata": {
    "colab": {
     "base_uri": "https://localhost:8080/"
    },
    "id": "o23uiMoP0p3V",
    "outputId": "b3f819dc-299b-406f-f5f3-f95cabe58d23"
   },
   "outputs": [
    {
     "name": "stdout",
     "output_type": "stream",
     "text": [
      "Коэффициент корреляции Пирсона: 1.0\n"
     ]
    }
   ],
   "source": [
    "import numpy as np\n",
    "\n",
    "x = [10, 20, 30]\n",
    "y = [15, 25, 35]\n",
    "\n",
    "r = np.corrcoef(x, y)[0, 1]\n",
    "\n",
    "print(\"Коэффициент корреляции Пирсона:\", r)\n"
   ]
  },
  {
   "cell_type": "code",
   "execution_count": null,
   "metadata": {
    "colab": {
     "base_uri": "https://localhost:8080/"
    },
    "id": "U7TASa5L1FiM",
    "outputId": "c480685d-4e7d-4285-9c17-e8b1c45d1900"
   },
   "outputs": [
    {
     "name": "stdout",
     "output_type": "stream",
     "text": [
      "R²: 1.0\n"
     ]
    }
   ],
   "source": [
    "import numpy as np\n",
    "from sklearn.linear_model import LinearRegression\n",
    "\n",
    "X = np.array([[1], [2], [3], [4], [5]])\n",
    "y = np.array([2, 4, 6, 8, 10])\n",
    "\n",
    "model = LinearRegression()\n",
    "model.fit(X, y)\n",
    "\n",
    "y_pred = model.predict(X)\n",
    "\n",
    "def r_squared(y_true, y_pred):\n",
    "    ss_res = np.sum((y_true - y_pred)**2)\n",
    "\n",
    "    y_mean = np.mean(y_true)\n",
    "    ss_tot = np.sum((y_true - y_mean)**2)\n",
    "\n",
    "    r2 = 1 - (ss_res / ss_tot)\n",
    "    return r2\n",
    "\n",
    "r2_value = r_squared(y, y_pred)\n",
    "print(\"R²:\", r2_value)\n"
   ]
  },
  {
   "cell_type": "code",
   "execution_count": null,
   "metadata": {
    "colab": {
     "base_uri": "https://localhost:8080/",
     "height": 471
    },
    "id": "7F3T4AqU15FW",
    "outputId": "ee8e91e3-326b-4c7d-9d16-3a985441464a"
   },
   "outputs": [
    {
     "data": {
      "image/png": "[encoded data removed]",
      "text/plain": [
       "<Figure size 640x480 with 1 Axes>"
      ]
     },
     "metadata": {},
     "output_type": "display_data"
    }
   ],
   "source": [
    "import numpy as np\n",
    "from sklearn.cluster import KMeans\n",
    "import matplotlib.pyplot as plt\n",
    "\n",
    "data = np.array([\n",
    "    [1, 1],\n",
    "    [1, 2],\n",
    "    [2, 2],\n",
    "    [8, 8],\n",
    "    [8, 9],\n",
    "    [9, 9]\n",
    "])\n",
    "\n",
    "inertia_values = []\n",
    "K_values = range(1, 6)\n",
    "\n",
    "for k in K_values:\n",
    "    kmeans = KMeans(n_clusters=k, random_state=42)\n",
    "    kmeans.fit(data)\n",
    "    inertia_values.append(kmeans.inertia_)\n",
    "\n",
    "plt.plot(K_values, inertia_values, 'bx-')\n",
    "plt.xlabel('Число кластеров (k)')\n",
    "plt.ylabel('Inertia')\n",
    "plt.title('Метод локтя для выбора k')\n",
    "plt.show()\n",
    "\n"
   ]
  },
  {
   "cell_type": "code",
   "execution_count": null,
   "metadata": {
    "colab": {
     "base_uri": "https://localhost:8080/"
    },
    "id": "SoTrQGxt2Ilv",
    "outputId": "1c76e004-0f44-45a0-c5fb-68d8c1e73946"
   },
   "outputs": [
    {
     "name": "stdout",
     "output_type": "stream",
     "text": [
      "Среднее значение: 16.285714285714285\n"
     ]
    }
   ],
   "source": [
    "import numpy as np\n",
    "\n",
    "data = [12, 15, 13, 20, 18, 19, 17]\n",
    "mean_value = np.mean(data)\n",
    "print(\"Среднее значение:\", mean_value)\n"
   ]
  }
 ],
 "metadata": {
  "colab": {
   "provenance": []
  },
  "kernelspec": {
   "display_name": "Python 3",
   "name": "python3"
  },
  "language_info": {
   "name": "python"
  }
 },
 "nbformat": 4,
 "nbformat_minor": 0
}
